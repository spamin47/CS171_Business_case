{
 "cells": [
  {
   "cell_type": "code",
   "execution_count": 2,
   "id": "6afc932b",
   "metadata": {},
   "outputs": [],
   "source": [
    "import numpy as np\n",
    "import tensorflow as tf"
   ]
  },
  {
   "cell_type": "code",
   "execution_count": 3,
   "id": "da6b57da",
   "metadata": {},
   "outputs": [],
   "source": [
    "npz = np.load('Audiobooks_data_train.npz')\n",
    "\n",
    "train_inputs = npz['inputs'].astype(np.float64)\n",
    "train_targets = npz['targets'].astype(int)\n",
    "\n",
    "npz = np.load('Audiobooks_data_validation.npz')\n",
    "\n",
    "validation_inputs = npz['inputs'].astype(np.float64)\n",
    "validation_targets = npz['targets'].astype(int)\n",
    "\n",
    "npz = np.load('Audiobooks_data_test.npz')\n",
    "\n",
    "test_inputs = npz['inputs'].astype(np.float64)\n",
    "test_targets = npz['targets'].astype(int)"
   ]
  },
  {
   "cell_type": "code",
   "execution_count": 4,
   "id": "48871632",
   "metadata": {},
   "outputs": [],
   "source": [
    "#early stopping mechanism\n",
    "early_stopping = tf.keras.callbacks.EarlyStopping(patience=2)\n"
   ]
  },
  {
   "cell_type": "code",
   "execution_count": 6,
   "id": "111601a9",
   "metadata": {},
   "outputs": [
    {
     "name": "stdout",
     "output_type": "stream",
     "text": [
      "3579\n"
     ]
    }
   ],
   "source": [
    "print(train_inputs.shape[0])\n",
    "input_size = 11\n",
    "hidden_layer_size = 50\n",
    "output_size = 2\n",
    "model = tf.keras.Sequential([\n",
    "#     tf.keras.layers.Input(shape=(input_size,)),\n",
    "#     tf.keras.layers.Dense(hidden_layer_size,activation='sigmoid'),\n",
    "    tf.keras.layers.Dense(64, activation='relu'),\n",
    "    tf.keras.layers.Dense(32, activation='relu'),\n",
    "    tf.keras.layers.Dense(1, activation='sigmoid')\n",
    "])\n",
    "model.compile(optimizer='adam', loss='binary_crossentropy', metrics=['accuracy'])\n"
   ]
  },
  {
   "cell_type": "raw",
   "id": "09df18aa",
   "metadata": {},
   "source": []
  },
  {
   "cell_type": "code",
   "execution_count": 7,
   "id": "0456fa44",
   "metadata": {},
   "outputs": [
    {
     "name": "stdout",
     "output_type": "stream",
     "text": [
      "Epoch 1/100\n",
      "358/358 - 1s - loss: 0.3199 - accuracy: 0.8740 - val_loss: 0.1548 - val_accuracy: 0.9500 - 1s/epoch - 3ms/step\n",
      "Epoch 2/100\n",
      "358/358 - 0s - loss: 0.2112 - accuracy: 0.9215 - val_loss: 0.1230 - val_accuracy: 0.9700 - 308ms/epoch - 861us/step\n",
      "Epoch 3/100\n",
      "358/358 - 0s - loss: 0.1873 - accuracy: 0.9288 - val_loss: 0.1362 - val_accuracy: 0.9600 - 307ms/epoch - 858us/step\n",
      "Epoch 4/100\n",
      "358/358 - 0s - loss: 0.1795 - accuracy: 0.9357 - val_loss: 0.1088 - val_accuracy: 0.9600 - 319ms/epoch - 891us/step\n",
      "Epoch 5/100\n",
      "358/358 - 0s - loss: 0.1737 - accuracy: 0.9335 - val_loss: 0.1291 - val_accuracy: 0.9500 - 351ms/epoch - 981us/step\n",
      "Epoch 6/100\n",
      "358/358 - 0s - loss: 0.1653 - accuracy: 0.9377 - val_loss: 0.1074 - val_accuracy: 0.9700 - 300ms/epoch - 839us/step\n",
      "Epoch 7/100\n",
      "358/358 - 0s - loss: 0.1598 - accuracy: 0.9394 - val_loss: 0.1194 - val_accuracy: 0.9600 - 301ms/epoch - 841us/step\n",
      "Epoch 8/100\n",
      "358/358 - 0s - loss: 0.1580 - accuracy: 0.9399 - val_loss: 0.1150 - val_accuracy: 0.9700 - 305ms/epoch - 852us/step\n"
     ]
    },
    {
     "data": {
      "text/plain": [
       "<keras.src.callbacks.History at 0x276eab74b80>"
      ]
     },
     "execution_count": 7,
     "metadata": {},
     "output_type": "execute_result"
    }
   ],
   "source": [
    "batch_size = 10\n",
    "max_epochs = 100\n",
    "model.fit(train_inputs,\n",
    "          train_targets,\n",
    "          batch_size = batch_size,\n",
    "          epochs = max_epochs,\n",
    "          callbacks=[early_stopping],\n",
    "          validation_data=(validation_inputs,validation_targets),\n",
    "          validation_steps=10,\n",
    "          verbose=2\n",
    "         )"
   ]
  },
  {
   "cell_type": "code",
   "execution_count": null,
   "id": "e4f000d7",
   "metadata": {},
   "outputs": [],
   "source": [
    "print(test_inputs.shape)\n",
    "print(test_inputs[0].shape)\n",
    "prediction = model.evaluate(test_inputs,test_targets,batch_size=1)\n",
    "print(prediction)"
   ]
  },
  {
   "cell_type": "code",
   "execution_count": null,
   "id": "5cc0f3a9",
   "metadata": {},
   "outputs": [],
   "source": []
  }
 ],
 "metadata": {
  "kernelspec": {
   "display_name": "Python 3 (ipykernel)",
   "language": "python",
   "name": "python3"
  },
  "language_info": {
   "codemirror_mode": {
    "name": "ipython",
    "version": 3
   },
   "file_extension": ".py",
   "mimetype": "text/x-python",
   "name": "python",
   "nbconvert_exporter": "python",
   "pygments_lexer": "ipython3",
   "version": "3.10.8"
  }
 },
 "nbformat": 4,
 "nbformat_minor": 5
}
