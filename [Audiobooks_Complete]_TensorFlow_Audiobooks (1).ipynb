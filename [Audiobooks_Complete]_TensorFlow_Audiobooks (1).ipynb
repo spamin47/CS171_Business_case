{
  "cells": [
    {
      "cell_type": "markdown",
      "metadata": {
        "id": "VSEDCtnsN-5u"
      },
      "source": [
        "# Audiobooks business case"
      ]
    },
    {
      "cell_type": "markdown",
      "metadata": {
        "id": "OziIpbTgN-5w"
      },
      "source": [
        "### Extract the data from the csv"
      ]
    },
    {
      "cell_type": "code",
      "execution_count": 10,
      "metadata": {
        "id": "cZGJjYcvN-5x"
      },
      "outputs": [],
      "source": [
        "import numpy as np\n",
        "from sklearn import preprocessing\n",
        "import numpy as np\n",
        "import tensorflow as tf\n",
        "\n",
        "raw_csv_data = np.loadtxt('Audiobooks_data.csv',delimiter=',')\n",
        "unscaled_inputs_all = raw_csv_data[:,1:-1]\n",
        "targets_all = raw_csv_data[:,-1]"
      ]
    },
    {
      "cell_type": "markdown",
      "metadata": {
        "id": "dSp0FD4UN-5x"
      },
      "source": [
        "### Balance the dataset"
      ]
    },
    {
      "cell_type": "code",
      "execution_count": 6,
      "metadata": {
        "collapsed": true,
        "id": "SWeUiXDAN-5x"
      },
      "outputs": [],
      "source": [
        "num_one_targets = int(np.sum(targets_all))\n",
        "\n",
        "zero_targets_counter = 0\n",
        "\n",
        "indices_to_remove = []\n",
        "\n",
        "for i in range(targets_all.shape[0]):\n",
        "    if targets_all[i] == 0:\n",
        "        zero_targets_counter += 1\n",
        "        if zero_targets_counter > num_one_targets:\n",
        "            indices_to_remove.append(i)\n",
        "\n",
        "# Create two new variables, one that will contain the inputs, and one that will contain the targets.\n",
        "# We delete all indices that we marked \"to remove\" in the loop above.\n",
        "unscaled_inputs_equal_priors = np.delete(unscaled_inputs_all, indices_to_remove, axis=0)\n",
        "targets_equal_priors = np.delete(targets_all, indices_to_remove, axis=0)"
      ]
    },
    {
      "cell_type": "markdown",
      "metadata": {
        "id": "_GLcwBqHN-5x"
      },
      "source": [
        "### Standardize the inputs"
      ]
    },
    {
      "cell_type": "code",
      "execution_count": 7,
      "metadata": {
        "id": "hTIFAnDhN-5y"
      },
      "outputs": [],
      "source": [
        "scaled_inputs = preprocessing.scale(unscaled_inputs_equal_priors)"
      ]
    },
    {
      "cell_type": "markdown",
      "metadata": {
        "id": "TsMCpM2DN-5y"
      },
      "source": [
        "### Shuffle the data"
      ]
    },
    {
      "cell_type": "code",
      "execution_count": 8,
      "metadata": {
        "collapsed": true,
        "id": "VweYvBd3N-5y"
      },
      "outputs": [],
      "source": [
        "# Shuffle the indices of the data, so the data is not arranged in any way when we feed it.\n",
        "shuffled_indices = np.arange(scaled_inputs.shape[0])\n",
        "np.random.shuffle(shuffled_indices)\n",
        "\n",
        "# Use the shuffled indices to shuffle the inputs and targets.\n",
        "shuffled_inputs = scaled_inputs[shuffled_indices]\n",
        "shuffled_targets = targets_equal_priors[shuffled_indices]"
      ]
    },
    {
      "cell_type": "markdown",
      "metadata": {
        "id": "2ry8Kap9N-5y"
      },
      "source": [
        "### Split the dataset into train, validation, and test"
      ]
    },
    {
      "cell_type": "code",
      "execution_count": 9,
      "metadata": {
        "colab": {
          "base_uri": "https://localhost:8080/"
        },
        "id": "cOTBhLZXN-5y",
        "outputId": "3465baec-6e35-440c-aa8c-86c4c50439b2"
      },
      "outputs": [
        {
          "output_type": "stream",
          "name": "stdout",
          "text": [
            "1772.0 3579 0.4951103660240291\n",
            "228.0 447 0.5100671140939598\n",
            "237.0 448 0.5290178571428571\n"
          ]
        }
      ],
      "source": [
        "samples_count = shuffled_inputs.shape[0]\n",
        "\n",
        "train_samples_count = int(0.8 * samples_count)\n",
        "validation_samples_count = int(0.1 * samples_count)\n",
        "\n",
        "test_samples_count = samples_count - train_samples_count - validation_samples_count\n",
        "\n",
        "train_inputs = shuffled_inputs[:train_samples_count]\n",
        "train_targets = shuffled_targets[:train_samples_count]\n",
        "\n",
        "validation_inputs = shuffled_inputs[train_samples_count:train_samples_count+validation_samples_count]\n",
        "validation_targets = shuffled_targets[train_samples_count:train_samples_count+validation_samples_count]\n",
        "\n",
        "test_inputs = shuffled_inputs[train_samples_count+validation_samples_count:]\n",
        "test_targets = shuffled_targets[train_samples_count+validation_samples_count:]\n",
        "\n",
        "\n",
        "# Print the number of targets that are 1s, the total number of samples, and the proportion for training, validation, and test (~50%).\n",
        "print(np.sum(train_targets), train_samples_count, np.sum(train_targets) / train_samples_count)\n",
        "print(np.sum(validation_targets), validation_samples_count, np.sum(validation_targets) / validation_samples_count)\n",
        "print(np.sum(test_targets), test_samples_count, np.sum(test_targets) / test_samples_count)"
      ]
    },
    {
      "cell_type": "markdown",
      "metadata": {
        "id": "5OOltltKN-5z"
      },
      "source": [
        "### Save/Load the three datasets in *.npz (Optional)\n"
      ]
    },
    {
      "cell_type": "code",
      "execution_count": null,
      "metadata": {
        "collapsed": true,
        "id": "3_EVH0ekN-5z"
      },
      "outputs": [],
      "source": [
        "# Save the three datasets in *.npz.\n",
        "# In the next lesson, you will see that it is extremely valuable to name them in such a coherent way!\n",
        "\n",
        "np.savez('Audiobooks_data_train', inputs=train_inputs, targets=train_targets)\n",
        "np.savez('Audiobooks_data_validation', inputs=validation_inputs, targets=validation_targets)\n",
        "np.savez('Audiobooks_data_test', inputs=test_inputs, targets=test_targets)"
      ]
    },
    {
      "cell_type": "code",
      "source": [
        "npz = np.load('Audiobooks_data_train.npz')\n",
        "\n",
        "train_inputs = npz['inputs'].astype(np.float)\n",
        "train_targets = npz['targets'].astype(np.int)\n",
        "\n",
        "npz = np.load('Audiobooks_data_validation.npz')\n",
        "# we can load the inputs and the targets in the same line\n",
        "validation_inputs, validation_targets = npz['inputs'].astype(np.float), npz['targets'].astype(np.int)\n",
        "\n",
        "# we load the test data in the temporary variable\n",
        "npz = np.load('Audiobooks_data_test.npz')\n",
        "# we create 2 variables that will contain the test inputs and the test targets\n",
        "test_inputs, test_targets = npz['inputs'].astype(np.float), npz['targets'].astype(np.int)"
      ],
      "metadata": {
        "id": "Q8q6Y35cPH7c"
      },
      "execution_count": null,
      "outputs": []
    },
    {
      "cell_type": "markdown",
      "source": [
        "## Model Outline"
      ],
      "metadata": {
        "id": "LkkxbL6oPMCa"
      }
    },
    {
      "cell_type": "code",
      "source": [
        "# Set the input and output sizes\n",
        "input_size = 10\n",
        "output_size = 2\n",
        "# Use same hidden layer size for both hidden layers. Not a necessity.\n",
        "hidden_layer_size = 50\n",
        "\n",
        "# define how the model will look like\n",
        "model = tf.keras.Sequential([\n",
        "    # tf.keras.layers.Dense is basically implementing: output = activation(dot(input, weight) + bias)\n",
        "    # it takes several arguments, but the most important ones for us are the hidden_layer_size and the activation function\n",
        "    tf.keras.layers.Dense(hidden_layer_size, activation='relu'), # 1st hidden layer\n",
        "    tf.keras.layers.Dense(hidden_layer_size, activation='relu'), # 2nd hidden layer\n",
        "    # the final layer is no different, we just make sure to activate it with softmax\n",
        "    tf.keras.layers.Dense(output_size, activation='softmax') # output layer\n",
        "])\n",
        "\n",
        "\n",
        "### Choose the optimizer and the loss function\n",
        "\n",
        "# we define the optimizer we'd like to use,\n",
        "# the loss function,\n",
        "# and the metrics we are interested in obtaining at each iteration\n",
        "model.compile(optimizer='adam', loss='sparse_categorical_crossentropy', metrics=['accuracy'])\n",
        "\n",
        "### Training\n",
        "# That's where we train the model we have built.\n",
        "\n",
        "# set the batch size\n",
        "batch_size = 100\n",
        "\n",
        "# set a maximum number of training epochs\n",
        "max_epochs = 100\n",
        "\n",
        "# set an early stopping mechanism\n",
        "# let's set patience=2, to be a bit tolerant against random validation loss increases\n",
        "early_stopping = tf.keras.callbacks.EarlyStopping(patience=2)\n",
        "\n",
        "# fit the model\n",
        "# note that this time the train, validation and test data are not iterable\n",
        "model.fit(train_inputs, # train inputs\n",
        "          train_targets, # train targets\n",
        "          batch_size=batch_size, # batch size\n",
        "          epochs=max_epochs, # epochs that we will train for (assuming early stopping doesn't kick in)\n",
        "          # callbacks are functions called by a task when a task is completed\n",
        "          # task here is to check if val_loss is increasing\n",
        "          callbacks=[early_stopping], # early stopping\n",
        "          validation_data=(validation_inputs, validation_targets), # validation data\n",
        "          verbose = 2 # making sure we get enough information about the training process\n",
        "          )"
      ],
      "metadata": {
        "colab": {
          "base_uri": "https://localhost:8080/"
        },
        "id": "JvwVtkzUPXbz",
        "outputId": "e98836d8-8f4c-4d78-883d-dd2638a8791b"
      },
      "execution_count": 11,
      "outputs": [
        {
          "output_type": "stream",
          "name": "stdout",
          "text": [
            "Epoch 1/100\n",
            "36/36 - 2s - loss: 0.5256 - accuracy: 0.8069 - val_loss: 0.4014 - val_accuracy: 0.8837 - 2s/epoch - 69ms/step\n",
            "Epoch 2/100\n",
            "36/36 - 0s - loss: 0.3474 - accuracy: 0.8793 - val_loss: 0.3373 - val_accuracy: 0.8859 - 108ms/epoch - 3ms/step\n",
            "Epoch 3/100\n",
            "36/36 - 0s - loss: 0.3038 - accuracy: 0.8885 - val_loss: 0.3082 - val_accuracy: 0.8904 - 112ms/epoch - 3ms/step\n",
            "Epoch 4/100\n",
            "36/36 - 0s - loss: 0.2840 - accuracy: 0.8919 - val_loss: 0.2913 - val_accuracy: 0.8926 - 108ms/epoch - 3ms/step\n",
            "Epoch 5/100\n",
            "36/36 - 0s - loss: 0.2715 - accuracy: 0.8969 - val_loss: 0.2824 - val_accuracy: 0.8949 - 101ms/epoch - 3ms/step\n",
            "Epoch 6/100\n",
            "36/36 - 0s - loss: 0.2632 - accuracy: 0.9005 - val_loss: 0.2756 - val_accuracy: 0.8993 - 105ms/epoch - 3ms/step\n",
            "Epoch 7/100\n",
            "36/36 - 0s - loss: 0.2567 - accuracy: 0.9047 - val_loss: 0.2704 - val_accuracy: 0.8971 - 110ms/epoch - 3ms/step\n",
            "Epoch 8/100\n",
            "36/36 - 0s - loss: 0.2534 - accuracy: 0.9025 - val_loss: 0.2731 - val_accuracy: 0.8993 - 148ms/epoch - 4ms/step\n",
            "Epoch 9/100\n",
            "36/36 - 0s - loss: 0.2506 - accuracy: 0.9044 - val_loss: 0.2664 - val_accuracy: 0.9060 - 143ms/epoch - 4ms/step\n",
            "Epoch 10/100\n",
            "36/36 - 0s - loss: 0.2468 - accuracy: 0.9075 - val_loss: 0.2608 - val_accuracy: 0.9016 - 164ms/epoch - 5ms/step\n",
            "Epoch 11/100\n",
            "36/36 - 0s - loss: 0.2442 - accuracy: 0.9067 - val_loss: 0.2598 - val_accuracy: 0.9060 - 148ms/epoch - 4ms/step\n",
            "Epoch 12/100\n",
            "36/36 - 0s - loss: 0.2438 - accuracy: 0.9078 - val_loss: 0.2571 - val_accuracy: 0.9060 - 145ms/epoch - 4ms/step\n",
            "Epoch 13/100\n",
            "36/36 - 0s - loss: 0.2409 - accuracy: 0.9089 - val_loss: 0.2537 - val_accuracy: 0.9060 - 140ms/epoch - 4ms/step\n",
            "Epoch 14/100\n",
            "36/36 - 0s - loss: 0.2372 - accuracy: 0.9098 - val_loss: 0.2560 - val_accuracy: 0.9105 - 151ms/epoch - 4ms/step\n",
            "Epoch 15/100\n",
            "36/36 - 0s - loss: 0.2371 - accuracy: 0.9095 - val_loss: 0.2559 - val_accuracy: 0.9083 - 132ms/epoch - 4ms/step\n"
          ]
        },
        {
          "output_type": "execute_result",
          "data": {
            "text/plain": [
              "<keras.src.callbacks.History at 0x7bfd08f89570>"
            ]
          },
          "metadata": {},
          "execution_count": 11
        }
      ]
    },
    {
      "cell_type": "markdown",
      "source": [
        "## Test the model"
      ],
      "metadata": {
        "id": "i6Acf9KgPqWL"
      }
    },
    {
      "cell_type": "code",
      "source": [
        "test_loss, test_accuracy = model.evaluate(test_inputs, test_targets)\n",
        "print('\\nTest loss: {0:.2f}. Test accuracy: {1:.2f}%'.format(test_loss, test_accuracy*100.))"
      ],
      "metadata": {
        "id": "og24djjlPr9R",
        "outputId": "66789c53-4937-4f51-ef94-a52db118e1ae",
        "colab": {
          "base_uri": "https://localhost:8080/"
        }
      },
      "execution_count": 12,
      "outputs": [
        {
          "output_type": "stream",
          "name": "stdout",
          "text": [
            "14/14 [==============================] - 0s 2ms/step - loss: 0.2539 - accuracy: 0.9040\n",
            "\n",
            "Test loss: 0.25. Test accuracy: 90.40%\n"
          ]
        }
      ]
    }
  ],
  "metadata": {
    "kernelspec": {
      "display_name": "Python 3",
      "language": "python",
      "name": "python3"
    },
    "language_info": {
      "codemirror_mode": {
        "name": "ipython",
        "version": 3
      },
      "file_extension": ".py",
      "mimetype": "text/x-python",
      "name": "python",
      "nbconvert_exporter": "python",
      "pygments_lexer": "ipython3",
      "version": "3.7.4"
    },
    "colab": {
      "provenance": []
    }
  },
  "nbformat": 4,
  "nbformat_minor": 0
}